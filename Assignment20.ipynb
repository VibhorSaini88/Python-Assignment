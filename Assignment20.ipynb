{
 "cells": [
  {
   "cell_type": "markdown",
   "metadata": {
    "collapsed": true
   },
   "source": [
    "##(Q.1)- Create a dataframe with your name , age , mail id and phone number and add your friends’s information to the same."
   ]
  },
  {
   "cell_type": "code",
   "execution_count": 11,
   "metadata": {
    "collapsed": true
   },
   "outputs": [
    {
     "name": "stdout",
     "output_type": "stream",
     "text": [
      "     name  age             mail_id       phone\n0  Vibhor   20  vibhor14@gmail.com  9671088973\n      name  age               mail_id       phone\n0   Vibhor   20    vibhor14@gmail.com  9671088973\n0  krishan   19  krishan123@gmail.com  8930263513\n"
     ]
    }
   ],
   "source": [
    "\n",
    "import pandas as p\n",
    "\n",
    "dict = {'name':['Vibhor'],'age':[20],'mail_id':['vibhor14@gmail.com'],'phone':[9671088973]}\n",
    "df1 = p.DataFrame(dict)\n",
    "print(df1)\n",
    "dicti = {'name':[\"krishan\"],'age':[19],'mail_id':[\"krishan123@gmail.com\"],'phone':[8930263513]}\n",
    "df2 = p.DataFrame(dicti)\n",
    "add = df1.append(df2)\n",
    "print(add)\n"
   ]
  },
  {
   "cell_type": "markdown",
   "metadata": {},
   "source": [
    "##(Q.2) - Download the dataset from this link.(c:\\Users\\Vibhor saini\\Desktop\\WeatherData)\n",
    "Import the data and print the following :\n",
    "\n",
    "a.) First 5 rows of Dataframe.\n",
    "\n",
    "b.) First 10 rows of the Dataframe. \n",
    "\n",
    "c.) find basic statistics on the particular dataset. \n",
    "\n",
    "d.) Find the last 5 rows of the dataframe. \n",
    "\n",
    "e.) Extract the 2nd column and find basic statistics on it."
   ]
  },
  {
   "cell_type": "code",
   "execution_count": 61,
   "metadata": {
    "collapsed": true
   },
   "outputs": [
    {
     "name": "stdout",
     "output_type": "stream",
     "text": [
      "Extract the Second column DataFrame.->\n0       8.0\n1      14.0\n2      13.7\n3      13.3\n4       7.6\n5       6.2\n6       6.1\n7       8.3\n8       8.8\n9       8.4\n10      9.1\n11      8.5\n12     10.1\n13     12.1\n14     10.1\n15     12.4\n16     13.8\n17     11.7\n18     12.4\n19     15.6\n20     15.3\n21     16.4\n22     12.8\n23     12.0\n24     15.4\n25     15.6\n26     13.3\n27     12.9\n28     15.1\n29     13.6\n       ... \n336     5.6\n337    16.8\n338    14.4\n339    10.3\n340    11.2\n341     0.3\n342     0.5\n343     0.5\n344     4.6\n345     8.2\n346     4.5\n347     6.7\n348    11.9\n349     9.2\n350     4.4\n351     5.0\n352     6.7\n353     8.3\n354    11.3\n355     9.0\n356     3.4\n357     3.2\n358     0.9\n359     3.3\n360     7.9\n361     9.0\n362     7.1\n363    12.5\n364    12.5\n365    12.3\nName: MinTemp, Length: 366, dtype: float64\n7.265573770491804\n7.45\n6.017562236643699\n36.21105527188032\n"
     ]
    }
   ],
   "source": [
    "import pandas as p\n",
    "import numpy as np\n",
    "\n",
    "DataFrame = p.read_csv(\"https://raw.githubusercontent.com/Shreyas3108/Weather/master/weather.csv\")\n",
    "print(\"First 5 rows of Dataframe.->\")\n",
    "print(DataFrame.head(5))\n",
    "print(\"First 10 rows of the Dataframe.->\")\n",
    "print(DataFrame.head(10))\n",
    "print(\"Find basic *statistics* on the particular dataset.->\")\n",
    "print(\"Mean is:->\")\n",
    "print(DataFrame.mean())\n",
    "print(\"Median is:->\")\n",
    "print(DataFrame.median())\n",
    "print(\"std is:->\")\n",
    "print(DataFrame.std())\n",
    "print(\"variance is:->\")\n",
    "print(DataFrame.var())\n",
    "print(\"Find the Last 5 Rows of the DataFrame:->\")\n",
    "print(DataFrame.tail(5))\n",
    "print(\"Extract the Second column DataFrame.->\")\n",
    "print(DataFrame['MinTemp'])\n",
    "print(np.mean(DataFrame[\"MinTemp\"]))\n",
    "print(np.median(DataFrame[\"MinTemp\"]))\n",
    "print(np.std(DataFrame[\"MinTemp\"]))\n",
    "print(np.var(DataFrame[\"MinTemp\"]))"
   ]
  },
  {
   "cell_type": "code",
   "execution_count": 56,
   "metadata": {},
   "outputs": [],
   "source": []
  },
  {
   "cell_type": "code",
   "execution_count": null,
   "metadata": {},
   "outputs": [],
   "source": []
  }
 ],
 "metadata": {
  "kernelspec": {
   "display_name": "Python 2",
   "language": "python",
   "name": "python2"
  },
  "language_info": {
   "codemirror_mode": {
    "name": "ipython",
    "version": 2
   },
   "file_extension": ".py",
   "mimetype": "text/x-python",
   "name": "python",
   "nbconvert_exporter": "python",
   "pygments_lexer": "ipython2",
   "version": "2.7.6"
  }
 },
 "nbformat": 4,
 "nbformat_minor": 0
}
