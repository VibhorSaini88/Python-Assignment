{
 "cells": [
  {
   "cell_type": "markdown",
   "metadata": {
    "collapsed": true
   },
   "source": [
    "##Q.1 - Create a numpy array with 10 elements of the shape(10,1) using np.random and find out the mean of the elements using basic numpy functions."
   ]
  },
  {
   "cell_type": "code",
   "execution_count": 66,
   "metadata": {
    "collapsed": false
   },
   "outputs": [
    {
     "name": "stdout",
     "output_type": "stream",
     "text": [
      "array->\n[[0.47185435]\n [0.74101789]\n [0.6037133 ]\n [0.05098006]\n [0.02613209]\n [0.96717578]\n [0.49009903]\n [0.24390786]\n [0.97358474]\n [0.80468523]]\n\nmean of array:  0.5373150327687566\n"
     ]
    }
   ],
   "source": [
    "import numpy as np\n",
    "\n",
    "x = np.random.random((10,1))\n",
    "print(\"array->\")\n",
    "print( x )\n",
    "print( )\n",
    "print(\"mean of array: \",x.mean())"
   ]
  },
  {
   "cell_type": "markdown",
   "metadata": {},
   "source": [
    ""
   ]
  },
  {
   "cell_type": "markdown",
   "metadata": {},
   "source": [
    "##(Q.2) - Create a numpy array with 20 elements of the shape(20,1) using np.random find the variance and standard deviation of the elements."
   ]
  },
  {
   "cell_type": "code",
   "execution_count": 65,
   "metadata": {
    "collapsed": true
   },
   "outputs": [
    {
     "name": "stdout",
     "output_type": "stream",
     "text": [
      "array->\n[[0.5061163 ]\n [0.22158388]\n [0.13607833]\n [0.43538755]\n [0.6876158 ]\n [0.510617  ]\n [0.04071286]\n [0.18834215]\n [0.91349965]\n [0.15430728]\n [0.31246428]\n [0.84721142]\n [0.58274607]\n [0.12609696]\n [0.51649298]\n [0.34976789]\n [0.60283188]\n [0.6725015 ]\n [0.03620008]\n [0.41348533]]\n\nvariance of Array:  0.06418840915713545\n\nStandard devoation is:  0.25335431544999476\n"
     ]
    }
   ],
   "source": [
    "import numpy as np\n",
    "\n",
    "y = np.random.random((20,1))\n",
    "print(\"array->\")\n",
    "print(y)\n",
    "print( )\n",
    "print(\"variance of Array: \",y.var())\n",
    "print( )\n",
    "print(\"Standard devoation is: \",y.std())"
   ]
  },
  {
   "cell_type": "markdown",
   "metadata": {},
   "source": [
    "##(Q.3) - Create a numpy array A of shape(10,20) and B of shape (20,25) using np.random. Print the matrix which is the matrix multiplication of A and B. The shape of the new matrix should be (10,25). Using basic numpy math functions only find the sum of all the elements of the new matrix."
   ]
  },
  {
   "cell_type": "code",
   "execution_count": 60,
   "metadata": {},
   "outputs": [
    {
     "name": "stdout",
     "output_type": "stream",
     "text": [
      "Multiplication A*B:  [[5.01238178 5.04165918 5.74782279 4.89988784 5.19768064 4.30403695\n  4.37682362 4.74870984 5.61905056 5.6974246  4.87572444 5.4940565\n  3.80961621 5.77082698 4.57787347 4.65611509 5.64279687 6.43722169\n  4.3359397  5.29821259 4.50892491 5.73944529 5.49149555 5.65821616\n  5.05927919]\n [4.63211771 4.74888816 4.46260538 4.46695407 4.59603711 4.22724854\n  4.2340845  4.91550535 4.79693403 4.57746339 4.71638208 4.69266531\n  3.40247143 5.4853856  4.7550697  4.42370242 4.11142912 5.60253181\n  4.60079149 4.17625519 4.47367076 5.74207118 5.0120611  5.44527265\n  4.20672762]\n [5.26802142 5.54569043 5.45002866 4.48202772 5.13741531 4.86783714\n  4.53471138 5.2412521  5.75726892 5.66301491 5.06880631 5.79170073\n  3.72348506 5.90448627 4.50835794 5.04174527 5.60249992 6.55368564\n  4.50667447 5.38787191 4.69687861 6.09888527 5.01115693 6.12879635\n  5.28103768]\n [4.27725645 5.02372023 4.53585374 4.15268311 4.30750109 4.18183431\n  3.62957171 4.56738975 4.35122076 4.3419737  4.70282917 5.15721368\n  3.35227937 4.96641671 3.43871735 3.98870177 4.03769254 5.1883762\n  4.14674471 4.16287642 4.53572846 5.07712689 4.40729791 4.92360202\n  4.20613446]\n [5.38798798 5.39941621 5.52908618 4.99938787 5.28355768 4.33569406\n  4.42408879 5.41338244 5.15306969 5.00089653 5.3081449  6.1542099\n  3.73033114 6.43056476 4.63821743 4.68459623 5.72880328 6.52243869\n  4.23197724 4.91186286 5.37698476 5.64454267 5.4231928  5.57643332\n  5.19789552]\n [6.20781577 5.9648149  5.89278369 5.38804164 5.6806614  4.69813548\n  5.78464269 5.15131389 5.16350708 5.81594736 5.8524763  5.8688287\n  3.67749783 6.40835563 4.59655686 4.96108339 5.63333613 7.23818215\n  5.3245865  5.86561641 5.6338622  6.44125879 5.35337875 7.12566394\n  5.05764076]\n [4.82304288 5.39623567 5.10440691 5.05254092 5.25147362 4.20913624\n  4.77909278 5.28801886 5.03701037 4.69403044 5.46650148 5.73198779\n  4.06001986 4.902815   4.4332005  4.70178873 5.02923448 6.25053252\n  4.40279735 5.41730563 5.10359186 5.82630142 4.83875758 5.95145339\n  4.95000309]\n [5.67560968 5.17771957 5.49393811 4.61756816 5.39815159 4.74844674\n  5.0181936  4.48336407 5.49665562 5.65249717 4.41019473 5.71895825\n  4.10530338 5.18499325 4.17423178 5.5975947  5.09379485 6.21935527\n  4.6389152  5.82199754 5.03777092 5.83090285 4.57919769 5.77747788\n  4.63279408]\n [2.71332719 3.26535442 3.69789367 3.56099597 3.43824091 3.20812484\n  3.03402317 3.35685417 3.04933572 3.9149481  3.68365989 3.63634204\n  2.32631019 3.56291462 2.16967862 3.31095216 3.53387214 4.34181348\n  2.31596506 3.44592835 3.11891864 3.1541664  3.16567763 3.46093924\n  2.83511706]\n [4.36751152 4.29599014 3.49278988 3.40191487 4.38182308 3.55383536\n  4.19866844 3.46622022 4.57772397 3.5474713  3.52497088 4.51714612\n  2.99565613 4.47745039 3.89416635 3.92972958 4.00107474 4.92551477\n  4.60358209 4.01538046 4.0716365  5.01620243 4.13697247 4.38448217\n  4.42508599]]\n\nsum of new created matrix:  [48.36507238 49.85948891 49.40720903 45.02200217 48.67254243 42.33432965\n 44.01390066 46.63201069 49.00177671 48.90566751 47.60969017 52.76310902\n 35.1829706  53.09420921 41.18607    45.29600933 48.41453406 59.27965222\n 43.10797382 48.50330736 46.55796762 54.57090319 47.41918841 54.43233711\n 45.85171545]\n"
     ]
    }
   ],
   "source": [
    "import numpy as np\n",
    "\n",
    "A = np.random.random((10,20))\n",
    "B = np.random.random((20,25))\n",
    "print(\"Multiplication of A*B: \",np.matmul(A,B))\n",
    "print( )\n",
    "print(\"sum of new created matrix: \",sum(np.matmul(A,B)))"
   ]
  },
  {
   "cell_type": "markdown",
   "metadata": {},
   "source": [
    "##(Q.4) - Create a numpy array A of shape(10,1).Using the basic operations of the numpy array generate an array of shape(10,1) such that each element is the following function applied on each element of A. \n",
    "\n",
    "f(x)=1 / (1 + exp(-x)) \n",
    "Apply this function to each element of A and print the new array holding the value the function returns\n",
    "Example:\n",
    "\n",
    "a=[a1,a2,a3]   \n",
    "n(new array to be printed )=[ f(a1), f(a2), f(a3)]"
   ]
  },
  {
   "cell_type": "code",
   "execution_count": null,
   "metadata": {},
   "outputs": [],
   "source": [
    "import numpy as np\n",
    "\n",
    "A = np.array(([2,4,6,9,0,5,3,1,7,8]))\n",
    "print(\"a= \",[A],end=\" \")\n",
    "print( )\n",
    "for r in [A]:\n",
    "    B = np.exp(-A)\n",
    "    r = 1/(1+B)\n",
    "    print(\"n(new array to be printed)= \",[r],end=\" \")\n"
   ]
  }
 ],
 "metadata": {
  "kernelspec": {
   "display_name": "Python 2",
   "language": "python",
   "name": "python2"
  },
  "language_info": {
   "codemirror_mode": {
    "name": "ipython",
    "version": 2
   },
   "file_extension": ".py",
   "mimetype": "text/x-python",
   "name": "python",
   "nbconvert_exporter": "python",
   "pygments_lexer": "ipython2",
   "version": "2.7.6"
  }
 },
 "nbformat": 4,
 "nbformat_minor": 0
}
